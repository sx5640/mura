{
 "cells": [
  {
   "cell_type": "markdown",
   "metadata": {},
   "source": [
    "\n",
    "# Result Analysis on MobileNetGRU"
   ]
  },
  {
   "cell_type": "code",
   "execution_count": 1,
   "metadata": {},
   "outputs": [],
   "source": [
    "import os\n",
    "import sys\n",
    "\n",
    "ROOT_PATH = os.getcwd()\n",
    "ROOT_PATH = os.path.dirname(ROOT_PATH)\n",
    "ROOT_PATH = os.path.dirname(ROOT_PATH)\n",
    "sys.path.append(ROOT_PATH)\n"
   ]
  },
  {
   "cell_type": "code",
   "execution_count": 2,
   "metadata": {},
   "outputs": [
    {
     "name": "stderr",
     "output_type": "stream",
     "text": [
      "Using TensorFlow backend.\n"
     ]
    }
   ],
   "source": [
    "import pandas as pd\n",
    "import numpy as np\n",
    "\n",
    "import dataset\n",
    "import evaluate\n",
    "import metric\n",
    "import util\n",
    "import visualize\n",
    "from mobilenet_gru import MobileNetGRU\n",
    "from models.mobilenet.mobilenet import MobileNet"
   ]
  },
  {
   "cell_type": "code",
   "execution_count": 3,
   "metadata": {},
   "outputs": [],
   "source": [
    "base_model_path = \"D:\\\\Code\\\\mura\\\\models\\\\mobilenet\\\\saved_models\\\\vgg_all_0_512_2018-08-06-1905_best_kappa.h5\"\n",
    "gru_model_path = \"D:\\\\Code\\\\mura\\\\models\\\\mobilenet_gru\\\\saved_models\\\\vgg_all_0_512_2018-08-12-2134_best_kappa.h5\""
   ]
  },
  {
   "cell_type": "code",
   "execution_count": 4,
   "metadata": {},
   "outputs": [],
   "source": [
    "train_df, valid_df = dataset.preprocess()"
   ]
  },
  {
   "cell_type": "markdown",
   "metadata": {},
   "source": [
    "# Evaluate GRU Model"
   ]
  },
  {
   "cell_type": "code",
   "execution_count": 5,
   "metadata": {},
   "outputs": [
    {
     "name": "stdout",
     "output_type": "stream",
     "text": [
      "****** Building Model\n"
     ]
    }
   ],
   "source": [
    "gru_model = MobileNetGRU(weights=gru_model_path, lock_bottom=True)"
   ]
  },
  {
   "cell_type": "code",
   "execution_count": 6,
   "metadata": {},
   "outputs": [
    {
     "name": "stdout",
     "output_type": "stream",
     "text": [
      "(1199, 1)\n",
      "****** Evaluation per Image\n",
      "Accuracy:  0.8073193619017829\n",
      "Recall:    0.7784313725490196\n",
      "Precision: 0.8113079019073569\n",
      "Kappa:     0.6132858231848003\n",
      "Contingency Table:\n",
      " 1191            277\n",
      "  339           1390\n",
      "Number of Inputs: 3197\n",
      "****** Evaluation per Study Using Highest Score\n",
      "Accuracy:  0.8065054211843202\n",
      "Recall:    0.7713754646840149\n",
      "Precision: 0.7919847328244275\n",
      "Kappa:     0.6079457205918414\n",
      "Contingency Table:\n",
      "  415            109\n",
      "  123            552\n",
      "Number of Inputs: 1199\n",
      "****** Evaluation per Study Using Lowest Score\n",
      "Accuracy:  0.8065054211843202\n",
      "Recall:    0.7713754646840149\n",
      "Precision: 0.7919847328244275\n",
      "Kappa:     0.6079457205918414\n",
      "Contingency Table:\n",
      "  415            109\n",
      "  123            552\n",
      "Number of Inputs: 1199\n",
      "****** Evaluation per Study Using Average Score\n",
      "Accuracy:  0.8065054211843202\n",
      "Recall:    0.7713754646840149\n",
      "Precision: 0.7919847328244275\n",
      "Kappa:     0.6079457205918414\n",
      "Contingency Table:\n",
      "  415            109\n",
      "  123            552\n",
      "Number of Inputs: 1199\n"
     ]
    }
   ],
   "source": [
    "gru_result_df = gru_model.write_prediction(valid_df, batch_size=8)\n",
    "evaluate.evl_result(gru_result_df)"
   ]
  },
  {
   "cell_type": "markdown",
   "metadata": {},
   "source": [
    "# Evaluate Base Model"
   ]
  },
  {
   "cell_type": "code",
   "execution_count": 7,
   "metadata": {},
   "outputs": [
    {
     "name": "stdout",
     "output_type": "stream",
     "text": [
      "****** Building Model\n",
      "****** Evaluation per Image\n",
      "Accuracy:  0.7794807632155145\n",
      "Recall:    0.7516339869281046\n",
      "Precision: 0.7796610169491526\n",
      "Kappa:     0.5574964881608562\n",
      "Contingency Table:\n",
      " 1150            325\n",
      "  380           1342\n",
      "Number of Inputs: 3197\n",
      "****** Evaluation per Study Using Highest Score\n",
      "Accuracy:  0.7589658048373644\n",
      "Recall:    0.8698884758364313\n",
      "Precision: 0.6812227074235808\n",
      "Kappa:     0.5250430737304383\n",
      "Contingency Table:\n",
      "  468            219\n",
      "   70            442\n",
      "Number of Inputs: 1199\n",
      "****** Evaluation per Study Using Lowest Score\n",
      "Accuracy:  0.7773144286905754\n",
      "Recall:    0.6171003717472119\n",
      "Precision: 0.8447837150127226\n",
      "Kappa:     0.5383147702411732\n",
      "Contingency Table:\n",
      "  332             61\n",
      "  206            600\n",
      "Number of Inputs: 1199\n",
      "****** Evaluation per Study Using Average Score\n",
      "Accuracy:  0.7906588824020017\n",
      "Recall:    0.7472118959107806\n",
      "Precision: 0.7775628626692457\n",
      "Kappa:     0.5753224779969883\n",
      "Contingency Table:\n",
      "  402            115\n",
      "  136            546\n",
      "Number of Inputs: 1199\n"
     ]
    }
   ],
   "source": [
    "base_model = MobileNet(weights=base_model_path)\n",
    "base_result_df = base_model.write_prediction(valid_df, batch_size=16)\n",
    "evaluate.evl_result(base_result_df)"
   ]
  },
  {
   "cell_type": "markdown",
   "metadata": {},
   "source": [
    "# Discussion"
   ]
  },
  {
   "cell_type": "markdown",
   "metadata": {},
   "source": [
    "Apparently using GRU top performs better than simple agregation such as averaging and max, even if when the base mobile net model is fixed during training.\n",
    "\n",
    "Another interesting finding is that if we set the prediction for each image to be the prediction for the study, the result is accutually better. Although I think it tells more about the dataset distribution, that the model predicts better when the sequence is longer, which is what we expect."
   ]
  },
  {
   "cell_type": "code",
   "execution_count": null,
   "metadata": {},
   "outputs": [],
   "source": []
  }
 ],
 "metadata": {
  "kernelspec": {
   "display_name": "mura",
   "language": "python",
   "name": "mura"
  },
  "language_info": {
   "codemirror_mode": {
    "name": "ipython",
    "version": 3
   },
   "file_extension": ".py",
   "mimetype": "text/x-python",
   "name": "python",
   "nbconvert_exporter": "python",
   "pygments_lexer": "ipython3",
   "version": "3.6.3"
  }
 },
 "nbformat": 4,
 "nbformat_minor": 2
}
